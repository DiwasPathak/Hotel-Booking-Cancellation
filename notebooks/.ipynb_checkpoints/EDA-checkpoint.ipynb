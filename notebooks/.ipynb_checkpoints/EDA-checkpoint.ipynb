{
 "cells": [
  {
   "cell_type": "markdown",
   "id": "607edb76-7f99-4248-87ba-c7e77aa2aff7",
   "metadata": {},
   "source": [
    "# Hotel Booking Cancellation Prediction - EDA\n",
    "**Objective:** Predict hotel booking for a next booking of the hotel."
   ]
  },
  {
   "cell_type": "markdown",
   "id": "75159476-7679-4857-bbe2-7395d828d41b",
   "metadata": {},
   "source": [
    "## Importing the libraries"
   ]
  },
  {
   "cell_type": "code",
   "execution_count": 1,
   "id": "c0a0c182-92d9-4475-a1da-bd6ddb0f052f",
   "metadata": {},
   "outputs": [],
   "source": [
    "import pandas as pd\n",
    "import numpy as np\n",
    "import matplotlib.pyplot as plt\n",
    "import seaborn as sns\n",
    "import randomcolor\n",
    "%matplotlib inline"
   ]
  },
  {
   "cell_type": "code",
   "execution_count": 122,
   "id": "6ddaf757-83f2-4fd4-a057-6cc77d1e0a92",
   "metadata": {},
   "outputs": [
    {
     "data": {
      "text/html": [
       "<div>\n",
       "<style scoped>\n",
       "    .dataframe tbody tr th:only-of-type {\n",
       "        vertical-align: middle;\n",
       "    }\n",
       "\n",
       "    .dataframe tbody tr th {\n",
       "        vertical-align: top;\n",
       "    }\n",
       "\n",
       "    .dataframe thead th {\n",
       "        text-align: right;\n",
       "    }\n",
       "</style>\n",
       "<table border=\"1\" class=\"dataframe\">\n",
       "  <thead>\n",
       "    <tr style=\"text-align: right;\">\n",
       "      <th></th>\n",
       "      <th>hotel</th>\n",
       "      <th>is_canceled</th>\n",
       "      <th>lead_time</th>\n",
       "      <th>arrival_date_month</th>\n",
       "      <th>arrival_date_week_number</th>\n",
       "      <th>arrival_date_day_of_month</th>\n",
       "      <th>stays_in_weekend_nights</th>\n",
       "      <th>stays_in_week_nights</th>\n",
       "      <th>adults</th>\n",
       "      <th>children</th>\n",
       "      <th>...</th>\n",
       "      <th>adr</th>\n",
       "      <th>required_car_parking_spaces</th>\n",
       "      <th>total_of_special_requests</th>\n",
       "      <th>reservation_status</th>\n",
       "      <th>reservation_status_date</th>\n",
       "      <th>phone-number</th>\n",
       "      <th>total_stay_nights</th>\n",
       "      <th>total_members</th>\n",
       "      <th>total_bookings</th>\n",
       "      <th>arrival_date_month_num</th>\n",
       "    </tr>\n",
       "  </thead>\n",
       "  <tbody>\n",
       "    <tr>\n",
       "      <th>0</th>\n",
       "      <td>Resort Hotel</td>\n",
       "      <td>0</td>\n",
       "      <td>342</td>\n",
       "      <td>July</td>\n",
       "      <td>27</td>\n",
       "      <td>1</td>\n",
       "      <td>0</td>\n",
       "      <td>0</td>\n",
       "      <td>2</td>\n",
       "      <td>0.0</td>\n",
       "      <td>...</td>\n",
       "      <td>0.0</td>\n",
       "      <td>0</td>\n",
       "      <td>0</td>\n",
       "      <td>Check-Out</td>\n",
       "      <td>2015-07-01</td>\n",
       "      <td>669-792-1661</td>\n",
       "      <td>0</td>\n",
       "      <td>2.0</td>\n",
       "      <td>0</td>\n",
       "      <td>7</td>\n",
       "    </tr>\n",
       "    <tr>\n",
       "      <th>1</th>\n",
       "      <td>Resort Hotel</td>\n",
       "      <td>0</td>\n",
       "      <td>737</td>\n",
       "      <td>July</td>\n",
       "      <td>27</td>\n",
       "      <td>1</td>\n",
       "      <td>0</td>\n",
       "      <td>0</td>\n",
       "      <td>2</td>\n",
       "      <td>0.0</td>\n",
       "      <td>...</td>\n",
       "      <td>0.0</td>\n",
       "      <td>0</td>\n",
       "      <td>0</td>\n",
       "      <td>Check-Out</td>\n",
       "      <td>2015-07-01</td>\n",
       "      <td>858-637-6955</td>\n",
       "      <td>0</td>\n",
       "      <td>2.0</td>\n",
       "      <td>0</td>\n",
       "      <td>7</td>\n",
       "    </tr>\n",
       "    <tr>\n",
       "      <th>2</th>\n",
       "      <td>Resort Hotel</td>\n",
       "      <td>0</td>\n",
       "      <td>7</td>\n",
       "      <td>July</td>\n",
       "      <td>27</td>\n",
       "      <td>1</td>\n",
       "      <td>0</td>\n",
       "      <td>1</td>\n",
       "      <td>1</td>\n",
       "      <td>0.0</td>\n",
       "      <td>...</td>\n",
       "      <td>75.0</td>\n",
       "      <td>0</td>\n",
       "      <td>0</td>\n",
       "      <td>Check-Out</td>\n",
       "      <td>2015-07-02</td>\n",
       "      <td>652-885-2745</td>\n",
       "      <td>1</td>\n",
       "      <td>1.0</td>\n",
       "      <td>0</td>\n",
       "      <td>7</td>\n",
       "    </tr>\n",
       "    <tr>\n",
       "      <th>3</th>\n",
       "      <td>Resort Hotel</td>\n",
       "      <td>0</td>\n",
       "      <td>13</td>\n",
       "      <td>July</td>\n",
       "      <td>27</td>\n",
       "      <td>1</td>\n",
       "      <td>0</td>\n",
       "      <td>1</td>\n",
       "      <td>1</td>\n",
       "      <td>0.0</td>\n",
       "      <td>...</td>\n",
       "      <td>75.0</td>\n",
       "      <td>0</td>\n",
       "      <td>0</td>\n",
       "      <td>Check-Out</td>\n",
       "      <td>2015-07-02</td>\n",
       "      <td>364-656-8427</td>\n",
       "      <td>1</td>\n",
       "      <td>1.0</td>\n",
       "      <td>0</td>\n",
       "      <td>7</td>\n",
       "    </tr>\n",
       "    <tr>\n",
       "      <th>4</th>\n",
       "      <td>Resort Hotel</td>\n",
       "      <td>0</td>\n",
       "      <td>14</td>\n",
       "      <td>July</td>\n",
       "      <td>27</td>\n",
       "      <td>1</td>\n",
       "      <td>0</td>\n",
       "      <td>2</td>\n",
       "      <td>2</td>\n",
       "      <td>0.0</td>\n",
       "      <td>...</td>\n",
       "      <td>98.0</td>\n",
       "      <td>0</td>\n",
       "      <td>1</td>\n",
       "      <td>Check-Out</td>\n",
       "      <td>2015-07-03</td>\n",
       "      <td>713-226-5883</td>\n",
       "      <td>2</td>\n",
       "      <td>2.0</td>\n",
       "      <td>0</td>\n",
       "      <td>7</td>\n",
       "    </tr>\n",
       "  </tbody>\n",
       "</table>\n",
       "<p>5 rows × 36 columns</p>\n",
       "</div>"
      ],
      "text/plain": [
       "          hotel  is_canceled  lead_time arrival_date_month  \\\n",
       "0  Resort Hotel            0        342               July   \n",
       "1  Resort Hotel            0        737               July   \n",
       "2  Resort Hotel            0          7               July   \n",
       "3  Resort Hotel            0         13               July   \n",
       "4  Resort Hotel            0         14               July   \n",
       "\n",
       "   arrival_date_week_number  arrival_date_day_of_month  \\\n",
       "0                        27                          1   \n",
       "1                        27                          1   \n",
       "2                        27                          1   \n",
       "3                        27                          1   \n",
       "4                        27                          1   \n",
       "\n",
       "   stays_in_weekend_nights  stays_in_week_nights  adults  children  ...   adr  \\\n",
       "0                        0                     0       2       0.0  ...   0.0   \n",
       "1                        0                     0       2       0.0  ...   0.0   \n",
       "2                        0                     1       1       0.0  ...  75.0   \n",
       "3                        0                     1       1       0.0  ...  75.0   \n",
       "4                        0                     2       2       0.0  ...  98.0   \n",
       "\n",
       "  required_car_parking_spaces total_of_special_requests reservation_status  \\\n",
       "0                           0                         0          Check-Out   \n",
       "1                           0                         0          Check-Out   \n",
       "2                           0                         0          Check-Out   \n",
       "3                           0                         0          Check-Out   \n",
       "4                           0                         1          Check-Out   \n",
       "\n",
       "  reservation_status_date  phone-number  total_stay_nights  total_members  \\\n",
       "0              2015-07-01  669-792-1661                  0            2.0   \n",
       "1              2015-07-01  858-637-6955                  0            2.0   \n",
       "2              2015-07-02  652-885-2745                  1            1.0   \n",
       "3              2015-07-02  364-656-8427                  1            1.0   \n",
       "4              2015-07-03  713-226-5883                  2            2.0   \n",
       "\n",
       "  total_bookings arrival_date_month_num  \n",
       "0              0                      7  \n",
       "1              0                      7  \n",
       "2              0                      7  \n",
       "3              0                      7  \n",
       "4              0                      7  \n",
       "\n",
       "[5 rows x 36 columns]"
      ]
     },
     "execution_count": 122,
     "metadata": {},
     "output_type": "execute_result"
    }
   ],
   "source": [
    "df.head()"
   ]
  },
  {
   "cell_type": "markdown",
   "id": "16945c2a-0c52-4da0-9711-7ae3ff5a79f4",
   "metadata": {},
   "source": [
    "### Data Exploration"
   ]
  },
  {
   "cell_type": "code",
   "execution_count": 123,
   "id": "fdf1dca7-3da9-4bed-99e2-d561dfc7a12c",
   "metadata": {},
   "outputs": [
    {
     "name": "stdout",
     "output_type": "stream",
     "text": [
      "<class 'pandas.core.frame.DataFrame'>\n",
      "RangeIndex: 119390 entries, 0 to 119389\n",
      "Data columns (total 36 columns):\n",
      " #   Column                          Non-Null Count   Dtype  \n",
      "---  ------                          --------------   -----  \n",
      " 0   hotel                           119390 non-null  object \n",
      " 1   is_canceled                     119390 non-null  int64  \n",
      " 2   lead_time                       119390 non-null  int64  \n",
      " 3   arrival_date_month              119390 non-null  object \n",
      " 4   arrival_date_week_number        119390 non-null  int64  \n",
      " 5   arrival_date_day_of_month       119390 non-null  int64  \n",
      " 6   stays_in_weekend_nights         119390 non-null  int64  \n",
      " 7   stays_in_week_nights            119390 non-null  int64  \n",
      " 8   adults                          119390 non-null  int64  \n",
      " 9   children                        119386 non-null  float64\n",
      " 10  babies                          119390 non-null  int64  \n",
      " 11  meal                            119390 non-null  object \n",
      " 12  country                         118902 non-null  object \n",
      " 13  market_segment                  119390 non-null  object \n",
      " 14  distribution_channel            119390 non-null  object \n",
      " 15  is_repeated_guest               119390 non-null  int64  \n",
      " 16  previous_cancellations          119390 non-null  int64  \n",
      " 17  previous_bookings_not_canceled  119390 non-null  int64  \n",
      " 18  reserved_room_type              119390 non-null  object \n",
      " 19  assigned_room_type              119390 non-null  object \n",
      " 20  booking_changes                 119390 non-null  int64  \n",
      " 21  deposit_type                    119390 non-null  object \n",
      " 22  agent                           103050 non-null  float64\n",
      " 23  company                         6797 non-null    float64\n",
      " 24  days_in_waiting_list            119390 non-null  int64  \n",
      " 25  customer_type                   119390 non-null  object \n",
      " 26  adr                             119390 non-null  float64\n",
      " 27  required_car_parking_spaces     119390 non-null  int64  \n",
      " 28  total_of_special_requests       119390 non-null  int64  \n",
      " 29  reservation_status              119390 non-null  object \n",
      " 30  reservation_status_date         119390 non-null  object \n",
      " 31  phone-number                    119390 non-null  object \n",
      " 32  total_stay_nights               119390 non-null  int64  \n",
      " 33  total_members                   119386 non-null  float64\n",
      " 34  total_bookings                  119390 non-null  int64  \n",
      " 35  arrival_date_month_num          119390 non-null  int64  \n",
      "dtypes: float64(5), int64(18), object(13)\n",
      "memory usage: 32.8+ MB\n",
      "None\n"
     ]
    },
    {
     "data": {
      "text/html": [
       "<div>\n",
       "<style scoped>\n",
       "    .dataframe tbody tr th:only-of-type {\n",
       "        vertical-align: middle;\n",
       "    }\n",
       "\n",
       "    .dataframe tbody tr th {\n",
       "        vertical-align: top;\n",
       "    }\n",
       "\n",
       "    .dataframe thead th {\n",
       "        text-align: right;\n",
       "    }\n",
       "</style>\n",
       "<table border=\"1\" class=\"dataframe\">\n",
       "  <thead>\n",
       "    <tr style=\"text-align: right;\">\n",
       "      <th></th>\n",
       "      <th>is_canceled</th>\n",
       "      <th>lead_time</th>\n",
       "      <th>arrival_date_week_number</th>\n",
       "      <th>arrival_date_day_of_month</th>\n",
       "      <th>stays_in_weekend_nights</th>\n",
       "      <th>stays_in_week_nights</th>\n",
       "      <th>adults</th>\n",
       "      <th>children</th>\n",
       "      <th>babies</th>\n",
       "      <th>is_repeated_guest</th>\n",
       "      <th>...</th>\n",
       "      <th>agent</th>\n",
       "      <th>company</th>\n",
       "      <th>days_in_waiting_list</th>\n",
       "      <th>adr</th>\n",
       "      <th>required_car_parking_spaces</th>\n",
       "      <th>total_of_special_requests</th>\n",
       "      <th>total_stay_nights</th>\n",
       "      <th>total_members</th>\n",
       "      <th>total_bookings</th>\n",
       "      <th>arrival_date_month_num</th>\n",
       "    </tr>\n",
       "  </thead>\n",
       "  <tbody>\n",
       "    <tr>\n",
       "      <th>count</th>\n",
       "      <td>119390.000000</td>\n",
       "      <td>119390.000000</td>\n",
       "      <td>119390.000000</td>\n",
       "      <td>119390.000000</td>\n",
       "      <td>119390.000000</td>\n",
       "      <td>119390.000000</td>\n",
       "      <td>119390.000000</td>\n",
       "      <td>119386.000000</td>\n",
       "      <td>119390.000000</td>\n",
       "      <td>119390.000000</td>\n",
       "      <td>...</td>\n",
       "      <td>103050.000000</td>\n",
       "      <td>6797.000000</td>\n",
       "      <td>119390.000000</td>\n",
       "      <td>119390.000000</td>\n",
       "      <td>119390.000000</td>\n",
       "      <td>119390.000000</td>\n",
       "      <td>119390.000000</td>\n",
       "      <td>119386.000000</td>\n",
       "      <td>119390.000000</td>\n",
       "      <td>119390.000000</td>\n",
       "    </tr>\n",
       "    <tr>\n",
       "      <th>mean</th>\n",
       "      <td>0.370416</td>\n",
       "      <td>104.011416</td>\n",
       "      <td>27.165173</td>\n",
       "      <td>15.798241</td>\n",
       "      <td>0.927599</td>\n",
       "      <td>2.500302</td>\n",
       "      <td>1.856403</td>\n",
       "      <td>0.103890</td>\n",
       "      <td>0.007949</td>\n",
       "      <td>0.031912</td>\n",
       "      <td>...</td>\n",
       "      <td>86.693382</td>\n",
       "      <td>189.266735</td>\n",
       "      <td>2.321149</td>\n",
       "      <td>101.831122</td>\n",
       "      <td>0.062518</td>\n",
       "      <td>0.571363</td>\n",
       "      <td>3.427900</td>\n",
       "      <td>1.968229</td>\n",
       "      <td>0.224215</td>\n",
       "      <td>6.552483</td>\n",
       "    </tr>\n",
       "    <tr>\n",
       "      <th>std</th>\n",
       "      <td>0.482918</td>\n",
       "      <td>106.863097</td>\n",
       "      <td>13.605138</td>\n",
       "      <td>8.780829</td>\n",
       "      <td>0.998613</td>\n",
       "      <td>1.908286</td>\n",
       "      <td>0.579261</td>\n",
       "      <td>0.398561</td>\n",
       "      <td>0.097436</td>\n",
       "      <td>0.175767</td>\n",
       "      <td>...</td>\n",
       "      <td>110.774548</td>\n",
       "      <td>131.655015</td>\n",
       "      <td>17.594721</td>\n",
       "      <td>50.535790</td>\n",
       "      <td>0.245291</td>\n",
       "      <td>0.792798</td>\n",
       "      <td>2.557439</td>\n",
       "      <td>0.722400</td>\n",
       "      <td>1.827956</td>\n",
       "      <td>3.090619</td>\n",
       "    </tr>\n",
       "    <tr>\n",
       "      <th>min</th>\n",
       "      <td>0.000000</td>\n",
       "      <td>0.000000</td>\n",
       "      <td>1.000000</td>\n",
       "      <td>1.000000</td>\n",
       "      <td>0.000000</td>\n",
       "      <td>0.000000</td>\n",
       "      <td>0.000000</td>\n",
       "      <td>0.000000</td>\n",
       "      <td>0.000000</td>\n",
       "      <td>0.000000</td>\n",
       "      <td>...</td>\n",
       "      <td>1.000000</td>\n",
       "      <td>6.000000</td>\n",
       "      <td>0.000000</td>\n",
       "      <td>-6.380000</td>\n",
       "      <td>0.000000</td>\n",
       "      <td>0.000000</td>\n",
       "      <td>0.000000</td>\n",
       "      <td>0.000000</td>\n",
       "      <td>0.000000</td>\n",
       "      <td>1.000000</td>\n",
       "    </tr>\n",
       "    <tr>\n",
       "      <th>25%</th>\n",
       "      <td>0.000000</td>\n",
       "      <td>18.000000</td>\n",
       "      <td>16.000000</td>\n",
       "      <td>8.000000</td>\n",
       "      <td>0.000000</td>\n",
       "      <td>1.000000</td>\n",
       "      <td>2.000000</td>\n",
       "      <td>0.000000</td>\n",
       "      <td>0.000000</td>\n",
       "      <td>0.000000</td>\n",
       "      <td>...</td>\n",
       "      <td>9.000000</td>\n",
       "      <td>62.000000</td>\n",
       "      <td>0.000000</td>\n",
       "      <td>69.290000</td>\n",
       "      <td>0.000000</td>\n",
       "      <td>0.000000</td>\n",
       "      <td>2.000000</td>\n",
       "      <td>2.000000</td>\n",
       "      <td>0.000000</td>\n",
       "      <td>4.000000</td>\n",
       "    </tr>\n",
       "    <tr>\n",
       "      <th>50%</th>\n",
       "      <td>0.000000</td>\n",
       "      <td>69.000000</td>\n",
       "      <td>28.000000</td>\n",
       "      <td>16.000000</td>\n",
       "      <td>1.000000</td>\n",
       "      <td>2.000000</td>\n",
       "      <td>2.000000</td>\n",
       "      <td>0.000000</td>\n",
       "      <td>0.000000</td>\n",
       "      <td>0.000000</td>\n",
       "      <td>...</td>\n",
       "      <td>14.000000</td>\n",
       "      <td>179.000000</td>\n",
       "      <td>0.000000</td>\n",
       "      <td>94.575000</td>\n",
       "      <td>0.000000</td>\n",
       "      <td>0.000000</td>\n",
       "      <td>3.000000</td>\n",
       "      <td>2.000000</td>\n",
       "      <td>0.000000</td>\n",
       "      <td>7.000000</td>\n",
       "    </tr>\n",
       "    <tr>\n",
       "      <th>75%</th>\n",
       "      <td>1.000000</td>\n",
       "      <td>160.000000</td>\n",
       "      <td>38.000000</td>\n",
       "      <td>23.000000</td>\n",
       "      <td>2.000000</td>\n",
       "      <td>3.000000</td>\n",
       "      <td>2.000000</td>\n",
       "      <td>0.000000</td>\n",
       "      <td>0.000000</td>\n",
       "      <td>0.000000</td>\n",
       "      <td>...</td>\n",
       "      <td>229.000000</td>\n",
       "      <td>270.000000</td>\n",
       "      <td>0.000000</td>\n",
       "      <td>126.000000</td>\n",
       "      <td>0.000000</td>\n",
       "      <td>1.000000</td>\n",
       "      <td>4.000000</td>\n",
       "      <td>2.000000</td>\n",
       "      <td>0.000000</td>\n",
       "      <td>9.000000</td>\n",
       "    </tr>\n",
       "    <tr>\n",
       "      <th>max</th>\n",
       "      <td>1.000000</td>\n",
       "      <td>737.000000</td>\n",
       "      <td>53.000000</td>\n",
       "      <td>31.000000</td>\n",
       "      <td>19.000000</td>\n",
       "      <td>50.000000</td>\n",
       "      <td>55.000000</td>\n",
       "      <td>10.000000</td>\n",
       "      <td>10.000000</td>\n",
       "      <td>1.000000</td>\n",
       "      <td>...</td>\n",
       "      <td>535.000000</td>\n",
       "      <td>543.000000</td>\n",
       "      <td>391.000000</td>\n",
       "      <td>5400.000000</td>\n",
       "      <td>8.000000</td>\n",
       "      <td>5.000000</td>\n",
       "      <td>69.000000</td>\n",
       "      <td>55.000000</td>\n",
       "      <td>78.000000</td>\n",
       "      <td>12.000000</td>\n",
       "    </tr>\n",
       "  </tbody>\n",
       "</table>\n",
       "<p>8 rows × 23 columns</p>\n",
       "</div>"
      ],
      "text/plain": [
       "         is_canceled      lead_time  arrival_date_week_number  \\\n",
       "count  119390.000000  119390.000000             119390.000000   \n",
       "mean        0.370416     104.011416                 27.165173   \n",
       "std         0.482918     106.863097                 13.605138   \n",
       "min         0.000000       0.000000                  1.000000   \n",
       "25%         0.000000      18.000000                 16.000000   \n",
       "50%         0.000000      69.000000                 28.000000   \n",
       "75%         1.000000     160.000000                 38.000000   \n",
       "max         1.000000     737.000000                 53.000000   \n",
       "\n",
       "       arrival_date_day_of_month  stays_in_weekend_nights  \\\n",
       "count              119390.000000            119390.000000   \n",
       "mean                   15.798241                 0.927599   \n",
       "std                     8.780829                 0.998613   \n",
       "min                     1.000000                 0.000000   \n",
       "25%                     8.000000                 0.000000   \n",
       "50%                    16.000000                 1.000000   \n",
       "75%                    23.000000                 2.000000   \n",
       "max                    31.000000                19.000000   \n",
       "\n",
       "       stays_in_week_nights         adults       children         babies  \\\n",
       "count         119390.000000  119390.000000  119386.000000  119390.000000   \n",
       "mean               2.500302       1.856403       0.103890       0.007949   \n",
       "std                1.908286       0.579261       0.398561       0.097436   \n",
       "min                0.000000       0.000000       0.000000       0.000000   \n",
       "25%                1.000000       2.000000       0.000000       0.000000   \n",
       "50%                2.000000       2.000000       0.000000       0.000000   \n",
       "75%                3.000000       2.000000       0.000000       0.000000   \n",
       "max               50.000000      55.000000      10.000000      10.000000   \n",
       "\n",
       "       is_repeated_guest  ...          agent      company  \\\n",
       "count      119390.000000  ...  103050.000000  6797.000000   \n",
       "mean            0.031912  ...      86.693382   189.266735   \n",
       "std             0.175767  ...     110.774548   131.655015   \n",
       "min             0.000000  ...       1.000000     6.000000   \n",
       "25%             0.000000  ...       9.000000    62.000000   \n",
       "50%             0.000000  ...      14.000000   179.000000   \n",
       "75%             0.000000  ...     229.000000   270.000000   \n",
       "max             1.000000  ...     535.000000   543.000000   \n",
       "\n",
       "       days_in_waiting_list            adr  required_car_parking_spaces  \\\n",
       "count         119390.000000  119390.000000                119390.000000   \n",
       "mean               2.321149     101.831122                     0.062518   \n",
       "std               17.594721      50.535790                     0.245291   \n",
       "min                0.000000      -6.380000                     0.000000   \n",
       "25%                0.000000      69.290000                     0.000000   \n",
       "50%                0.000000      94.575000                     0.000000   \n",
       "75%                0.000000     126.000000                     0.000000   \n",
       "max              391.000000    5400.000000                     8.000000   \n",
       "\n",
       "       total_of_special_requests  total_stay_nights  total_members  \\\n",
       "count              119390.000000      119390.000000  119386.000000   \n",
       "mean                    0.571363           3.427900       1.968229   \n",
       "std                     0.792798           2.557439       0.722400   \n",
       "min                     0.000000           0.000000       0.000000   \n",
       "25%                     0.000000           2.000000       2.000000   \n",
       "50%                     0.000000           3.000000       2.000000   \n",
       "75%                     1.000000           4.000000       2.000000   \n",
       "max                     5.000000          69.000000      55.000000   \n",
       "\n",
       "       total_bookings  arrival_date_month_num  \n",
       "count   119390.000000           119390.000000  \n",
       "mean         0.224215                6.552483  \n",
       "std          1.827956                3.090619  \n",
       "min          0.000000                1.000000  \n",
       "25%          0.000000                4.000000  \n",
       "50%          0.000000                7.000000  \n",
       "75%          0.000000                9.000000  \n",
       "max         78.000000               12.000000  \n",
       "\n",
       "[8 rows x 23 columns]"
      ]
     },
     "execution_count": 123,
     "metadata": {},
     "output_type": "execute_result"
    }
   ],
   "source": [
    "print(df.info())\n",
    "df.describe()"
   ]
  },
  {
   "cell_type": "code",
   "execution_count": 124,
   "id": "3f4c7638-1343-4615-9554-cd3e13454e9a",
   "metadata": {},
   "outputs": [
    {
     "ename": "KeyError",
     "evalue": "\"['name', 'email', 'credit_card'] not found in axis\"",
     "output_type": "error",
     "traceback": [
      "\u001b[0;31m---------------------------------------------------------------------------\u001b[0m",
      "\u001b[0;31mKeyError\u001b[0m                                  Traceback (most recent call last)",
      "Cell \u001b[0;32mIn[124], line 2\u001b[0m\n\u001b[1;32m      1\u001b[0m \u001b[38;5;66;03m# Removing the unnecessary columns\u001b[39;00m\n\u001b[0;32m----> 2\u001b[0m df \u001b[38;5;241m=\u001b[39m \u001b[43mdf\u001b[49m\u001b[38;5;241;43m.\u001b[39;49m\u001b[43mdrop\u001b[49m\u001b[43m(\u001b[49m\u001b[43mcolumns\u001b[49m\u001b[43m \u001b[49m\u001b[38;5;241;43m=\u001b[39;49m\u001b[43m \u001b[49m\u001b[43m[\u001b[49m\u001b[38;5;124;43m'\u001b[39;49m\u001b[38;5;124;43mname\u001b[39;49m\u001b[38;5;124;43m'\u001b[39;49m\u001b[43m,\u001b[49m\u001b[38;5;124;43m'\u001b[39;49m\u001b[38;5;124;43memail\u001b[39;49m\u001b[38;5;124;43m'\u001b[39;49m\u001b[43m,\u001b[49m\u001b[43m \u001b[49m\u001b[38;5;124;43m'\u001b[39;49m\u001b[38;5;124;43mcredit_card\u001b[39;49m\u001b[38;5;124;43m'\u001b[39;49m\u001b[43m]\u001b[49m\u001b[43m,\u001b[49m\u001b[43m \u001b[49m\u001b[43maxis\u001b[49m\u001b[43m \u001b[49m\u001b[38;5;241;43m=\u001b[39;49m\u001b[43m \u001b[49m\u001b[38;5;241;43m1\u001b[39;49m\u001b[43m)\u001b[49m\n",
      "File \u001b[0;32m~/.local/lib/python3.9/site-packages/pandas/core/frame.py:5344\u001b[0m, in \u001b[0;36mDataFrame.drop\u001b[0;34m(self, labels, axis, index, columns, level, inplace, errors)\u001b[0m\n\u001b[1;32m   5196\u001b[0m \u001b[38;5;28;01mdef\u001b[39;00m \u001b[38;5;21mdrop\u001b[39m(\n\u001b[1;32m   5197\u001b[0m     \u001b[38;5;28mself\u001b[39m,\n\u001b[1;32m   5198\u001b[0m     labels: IndexLabel \u001b[38;5;241m|\u001b[39m \u001b[38;5;28;01mNone\u001b[39;00m \u001b[38;5;241m=\u001b[39m \u001b[38;5;28;01mNone\u001b[39;00m,\n\u001b[0;32m   (...)\u001b[0m\n\u001b[1;32m   5205\u001b[0m     errors: IgnoreRaise \u001b[38;5;241m=\u001b[39m \u001b[38;5;124m\"\u001b[39m\u001b[38;5;124mraise\u001b[39m\u001b[38;5;124m\"\u001b[39m,\n\u001b[1;32m   5206\u001b[0m ) \u001b[38;5;241m-\u001b[39m\u001b[38;5;241m>\u001b[39m DataFrame \u001b[38;5;241m|\u001b[39m \u001b[38;5;28;01mNone\u001b[39;00m:\n\u001b[1;32m   5207\u001b[0m \u001b[38;5;250m    \u001b[39m\u001b[38;5;124;03m\"\"\"\u001b[39;00m\n\u001b[1;32m   5208\u001b[0m \u001b[38;5;124;03m    Drop specified labels from rows or columns.\u001b[39;00m\n\u001b[1;32m   5209\u001b[0m \n\u001b[0;32m   (...)\u001b[0m\n\u001b[1;32m   5342\u001b[0m \u001b[38;5;124;03m            weight  1.0     0.8\u001b[39;00m\n\u001b[1;32m   5343\u001b[0m \u001b[38;5;124;03m    \"\"\"\u001b[39;00m\n\u001b[0;32m-> 5344\u001b[0m     \u001b[38;5;28;01mreturn\u001b[39;00m \u001b[38;5;28;43msuper\u001b[39;49m\u001b[43m(\u001b[49m\u001b[43m)\u001b[49m\u001b[38;5;241;43m.\u001b[39;49m\u001b[43mdrop\u001b[49m\u001b[43m(\u001b[49m\n\u001b[1;32m   5345\u001b[0m \u001b[43m        \u001b[49m\u001b[43mlabels\u001b[49m\u001b[38;5;241;43m=\u001b[39;49m\u001b[43mlabels\u001b[49m\u001b[43m,\u001b[49m\n\u001b[1;32m   5346\u001b[0m \u001b[43m        \u001b[49m\u001b[43maxis\u001b[49m\u001b[38;5;241;43m=\u001b[39;49m\u001b[43maxis\u001b[49m\u001b[43m,\u001b[49m\n\u001b[1;32m   5347\u001b[0m \u001b[43m        \u001b[49m\u001b[43mindex\u001b[49m\u001b[38;5;241;43m=\u001b[39;49m\u001b[43mindex\u001b[49m\u001b[43m,\u001b[49m\n\u001b[1;32m   5348\u001b[0m \u001b[43m        \u001b[49m\u001b[43mcolumns\u001b[49m\u001b[38;5;241;43m=\u001b[39;49m\u001b[43mcolumns\u001b[49m\u001b[43m,\u001b[49m\n\u001b[1;32m   5349\u001b[0m \u001b[43m        \u001b[49m\u001b[43mlevel\u001b[49m\u001b[38;5;241;43m=\u001b[39;49m\u001b[43mlevel\u001b[49m\u001b[43m,\u001b[49m\n\u001b[1;32m   5350\u001b[0m \u001b[43m        \u001b[49m\u001b[43minplace\u001b[49m\u001b[38;5;241;43m=\u001b[39;49m\u001b[43minplace\u001b[49m\u001b[43m,\u001b[49m\n\u001b[1;32m   5351\u001b[0m \u001b[43m        \u001b[49m\u001b[43merrors\u001b[49m\u001b[38;5;241;43m=\u001b[39;49m\u001b[43merrors\u001b[49m\u001b[43m,\u001b[49m\n\u001b[1;32m   5352\u001b[0m \u001b[43m    \u001b[49m\u001b[43m)\u001b[49m\n",
      "File \u001b[0;32m~/.local/lib/python3.9/site-packages/pandas/core/generic.py:4711\u001b[0m, in \u001b[0;36mNDFrame.drop\u001b[0;34m(self, labels, axis, index, columns, level, inplace, errors)\u001b[0m\n\u001b[1;32m   4709\u001b[0m \u001b[38;5;28;01mfor\u001b[39;00m axis, labels \u001b[38;5;129;01min\u001b[39;00m axes\u001b[38;5;241m.\u001b[39mitems():\n\u001b[1;32m   4710\u001b[0m     \u001b[38;5;28;01mif\u001b[39;00m labels \u001b[38;5;129;01mis\u001b[39;00m \u001b[38;5;129;01mnot\u001b[39;00m \u001b[38;5;28;01mNone\u001b[39;00m:\n\u001b[0;32m-> 4711\u001b[0m         obj \u001b[38;5;241m=\u001b[39m \u001b[43mobj\u001b[49m\u001b[38;5;241;43m.\u001b[39;49m\u001b[43m_drop_axis\u001b[49m\u001b[43m(\u001b[49m\u001b[43mlabels\u001b[49m\u001b[43m,\u001b[49m\u001b[43m \u001b[49m\u001b[43maxis\u001b[49m\u001b[43m,\u001b[49m\u001b[43m \u001b[49m\u001b[43mlevel\u001b[49m\u001b[38;5;241;43m=\u001b[39;49m\u001b[43mlevel\u001b[49m\u001b[43m,\u001b[49m\u001b[43m \u001b[49m\u001b[43merrors\u001b[49m\u001b[38;5;241;43m=\u001b[39;49m\u001b[43merrors\u001b[49m\u001b[43m)\u001b[49m\n\u001b[1;32m   4713\u001b[0m \u001b[38;5;28;01mif\u001b[39;00m inplace:\n\u001b[1;32m   4714\u001b[0m     \u001b[38;5;28mself\u001b[39m\u001b[38;5;241m.\u001b[39m_update_inplace(obj)\n",
      "File \u001b[0;32m~/.local/lib/python3.9/site-packages/pandas/core/generic.py:4753\u001b[0m, in \u001b[0;36mNDFrame._drop_axis\u001b[0;34m(self, labels, axis, level, errors, only_slice)\u001b[0m\n\u001b[1;32m   4751\u001b[0m         new_axis \u001b[38;5;241m=\u001b[39m axis\u001b[38;5;241m.\u001b[39mdrop(labels, level\u001b[38;5;241m=\u001b[39mlevel, errors\u001b[38;5;241m=\u001b[39merrors)\n\u001b[1;32m   4752\u001b[0m     \u001b[38;5;28;01melse\u001b[39;00m:\n\u001b[0;32m-> 4753\u001b[0m         new_axis \u001b[38;5;241m=\u001b[39m \u001b[43maxis\u001b[49m\u001b[38;5;241;43m.\u001b[39;49m\u001b[43mdrop\u001b[49m\u001b[43m(\u001b[49m\u001b[43mlabels\u001b[49m\u001b[43m,\u001b[49m\u001b[43m \u001b[49m\u001b[43merrors\u001b[49m\u001b[38;5;241;43m=\u001b[39;49m\u001b[43merrors\u001b[49m\u001b[43m)\u001b[49m\n\u001b[1;32m   4754\u001b[0m     indexer \u001b[38;5;241m=\u001b[39m axis\u001b[38;5;241m.\u001b[39mget_indexer(new_axis)\n\u001b[1;32m   4756\u001b[0m \u001b[38;5;66;03m# Case for non-unique axis\u001b[39;00m\n\u001b[1;32m   4757\u001b[0m \u001b[38;5;28;01melse\u001b[39;00m:\n",
      "File \u001b[0;32m~/.local/lib/python3.9/site-packages/pandas/core/indexes/base.py:6992\u001b[0m, in \u001b[0;36mIndex.drop\u001b[0;34m(self, labels, errors)\u001b[0m\n\u001b[1;32m   6990\u001b[0m \u001b[38;5;28;01mif\u001b[39;00m mask\u001b[38;5;241m.\u001b[39many():\n\u001b[1;32m   6991\u001b[0m     \u001b[38;5;28;01mif\u001b[39;00m errors \u001b[38;5;241m!=\u001b[39m \u001b[38;5;124m\"\u001b[39m\u001b[38;5;124mignore\u001b[39m\u001b[38;5;124m\"\u001b[39m:\n\u001b[0;32m-> 6992\u001b[0m         \u001b[38;5;28;01mraise\u001b[39;00m \u001b[38;5;167;01mKeyError\u001b[39;00m(\u001b[38;5;124mf\u001b[39m\u001b[38;5;124m\"\u001b[39m\u001b[38;5;132;01m{\u001b[39;00mlabels[mask]\u001b[38;5;241m.\u001b[39mtolist()\u001b[38;5;132;01m}\u001b[39;00m\u001b[38;5;124m not found in axis\u001b[39m\u001b[38;5;124m\"\u001b[39m)\n\u001b[1;32m   6993\u001b[0m     indexer \u001b[38;5;241m=\u001b[39m indexer[\u001b[38;5;241m~\u001b[39mmask]\n\u001b[1;32m   6994\u001b[0m \u001b[38;5;28;01mreturn\u001b[39;00m \u001b[38;5;28mself\u001b[39m\u001b[38;5;241m.\u001b[39mdelete(indexer)\n",
      "\u001b[0;31mKeyError\u001b[0m: \"['name', 'email', 'credit_card'] not found in axis\""
     ]
    }
   ],
   "source": [
    "# Removing the unnecessary columns\n",
    "df = df.drop(columns = ['name','email', 'credit_card'], axis = 1)"
   ]
  },
  {
   "cell_type": "code",
   "execution_count": null,
   "id": "3e3b22d4-5e65-443e-a559-c4426c61f5ce",
   "metadata": {},
   "outputs": [],
   "source": [
    "# Checking for missing valeues\n",
    "null_values = df.isnull().sum()\n",
    "null_values[null_values > 0]"
   ]
  },
  {
   "cell_type": "code",
   "execution_count": null,
   "id": "f21d6441-4d74-4eca-9cb1-9588e41ed522",
   "metadata": {},
   "outputs": [],
   "source": [
    "# Checking for duplicated values\n",
    "df.duplicated().sum()"
   ]
  },
  {
   "cell_type": "markdown",
   "id": "ba9f2056-658c-42e9-8bf1-63df4e591f0b",
   "metadata": {},
   "source": [
    "## Analyzing Numerical Variables"
   ]
  },
  {
   "cell_type": "code",
   "execution_count": null,
   "id": "b6845828-aa40-41c4-8b6c-b75baed15682",
   "metadata": {},
   "outputs": [],
   "source": [
    "sns.countplot(data = df, x = 'is_canceled', color = RandomColor().generate()[0])"
   ]
  },
  {
   "cell_type": "markdown",
   "id": "7a1e55d8-5301-456f-b6b9-bf915ea43d44",
   "metadata": {},
   "source": [
    "### Analyzing Numerical Variables"
   ]
  },
  {
   "cell_type": "markdown",
   "id": "4f832aff-a0cc-4c47-ae8e-09fc2ad11c97",
   "metadata": {},
   "source": [
    "### Lead time Analysis"
   ]
  },
  {
   "cell_type": "code",
   "execution_count": null,
   "id": "3c9f2e45-3796-4f7e-b9f1-85cd1045014c",
   "metadata": {},
   "outputs": [],
   "source": [
    "# Leadtime analysis\n",
    "fig, axes = plt.subplots(nrows=1, ncols=2, figsize=(10, 4))\n",
    "\n",
    "plt.suptitle('Plots of lead time', fontsize=15)\n",
    "# KDE plot\n",
    "sns.kdeplot(data=df, x='lead_time', ax=axes[0])\n",
    "axes[0].set_title('KDE')\n",
    "\n",
    "# Histogram\n",
    "sns.histplot(data=df, x='lead_time', bins=10, ax=axes[1], hue = 'is_canceled')\n",
    "axes[1].set_title('Histogram')\n",
    "\n",
    "plt.tight_layout()"
   ]
  },
  {
   "cell_type": "markdown",
   "id": "8bded13a-6f2f-4b45-a76f-838f484d87f9",
   "metadata": {},
   "source": [
    "**Observations** \n",
    "* Bookings with high lead_time(days between arrival and booking) is more likely to be cancelled.\n",
    "* Positively skewed data."
   ]
  },
  {
   "cell_type": "markdown",
   "id": "f56f2cbe-f521-4a68-a595-fa1d79930c69",
   "metadata": {},
   "source": [
    "### Analysis of stays_in_weekend_nights/ stays_in_week_nights"
   ]
  },
  {
   "cell_type": "code",
   "execution_count": null,
   "id": "24333d29-a2f8-4576-9f38-78da89d0098d",
   "metadata": {},
   "outputs": [],
   "source": [
    "# Making plots of stays in weekend nights\n",
    "fig, axes = plt.subplots(nrows=1, ncols=2, figsize=(10, 4))\n",
    "\n",
    "plt.suptitle('Plots of stays_in_weekend_nights', fontsize=16)\n",
    "# KDE plot\n",
    "sns.kdeplot(data=df, x='stays_in_weekend_nights', ax=axes[0])\n",
    "axes[0].set_title('KDE')\n",
    "\n",
    "# Histogram\n",
    "sns.histplot(data=df, x='stays_in_weekend_nights', bins=20, ax=axes[1], hue = 'is_canceled')\n",
    "axes[1].set_title('Histogram')\n",
    "\n",
    "plt.tight_layout()"
   ]
  },
  {
   "cell_type": "code",
   "execution_count": null,
   "id": "0b6e9c47-76a9-4ec4-8591-dcd9b14a26c4",
   "metadata": {},
   "outputs": [],
   "source": [
    "fig, axes = plt.subplots(nrows=1, ncols=2, figsize=(10, 4))\n",
    "\n",
    "plt.suptitle('Visualization of stays_in_week_nights', fontsize=15)\n",
    "# KDE plot\n",
    "sns.kdeplot(data=df, x='stays_in_week_nights', ax=axes[0])\n",
    "axes[0].set_title('KDE')\n",
    "\n",
    "# Histogram\n",
    "sns.histplot(data=df, x='stays_in_week_nights', bins=20, ax=axes[1], hue = 'is_canceled')\n",
    "axes[1].set_title('Histogram')\n",
    "\n",
    "plt.tight_layout()"
   ]
  },
  {
   "cell_type": "code",
   "execution_count": null,
   "id": "1bba3395-3e36-4307-a8e2-c3cff45f0f0b",
   "metadata": {},
   "outputs": [],
   "source": [
    "# Creating new feature total nights stayed\n",
    "df['total_stay_nights'] = df['stays_in_weekend_nights'] + df['stays_in_week_nights']"
   ]
  },
  {
   "cell_type": "code",
   "execution_count": null,
   "id": "244c4653-a169-4144-b090-f622455b71d2",
   "metadata": {},
   "outputs": [],
   "source": [
    "# Visualizing total_members\n",
    "fig, axes = plt.subplots(nrows=1, ncols=2, figsize=(10, 4))\n",
    "\n",
    "plt.suptitle('Visualization of total stay nights', fontsize=15)\n",
    "# KDE plot\n",
    "sns.kdeplot(data=df, x='total_stay_nights', ax=axes[0])\n",
    "axes[0].set_title('KDE')\n",
    "\n",
    "# Histogram\n",
    "sns.histplot(data=df, x='total_stay_nights', bins=20, ax=axes[1], hue = 'is_canceled')\n",
    "axes[1].set_title('Histogram')\n",
    "\n",
    "plt.tight_layout()"
   ]
  },
  {
   "cell_type": "markdown",
   "id": "6f3944a7-ec41-4a30-a2d0-56aafba26cc5",
   "metadata": {},
   "source": [
    "**Observations** \n",
    "* No such remarkable effect of stays_in_week/weekend_nights variable on cancellation.\n",
    "* Both stays_in_week/weekend_nights are positively skewed.\n",
    "* Presense of outliers.\n",
    "\n",
    "We created new variable total_stay_nights"
   ]
  },
  {
   "cell_type": "markdown",
   "id": "b9a28aad-98d3-4f02-a3fd-ceff99d2d65c",
   "metadata": {},
   "source": [
    "### Analysis of no. of members babies, adults, children"
   ]
  },
  {
   "cell_type": "code",
   "execution_count": null,
   "id": "df11709c-450e-4879-be86-5df44a4f40da",
   "metadata": {},
   "outputs": [],
   "source": [
    "# Explore distributions of these variable\n",
    "cols_to_plot = ['adults', 'children', 'babies']\n",
    "\n",
    "# Create subplots\n",
    "plt.figure(figsize=(9, 5))\n",
    "for i, feature in enumerate(cols_to_plot):\n",
    "    plt.subplot(-(-3 // 2), 2, i+1)\n",
    "    sns.kdeplot(df[feature], color = RandomColor().generate()[0])\n",
    "    plt.title(f'KDE plot of {feature}')\n",
    "\n",
    "plt.tight_layout()"
   ]
  },
  {
   "cell_type": "code",
   "execution_count": null,
   "id": "d78bb27b-4096-4c2b-9ea8-bd5d56c71962",
   "metadata": {},
   "outputs": [],
   "source": [
    "# Create subplots\n",
    "plt.figure(figsize=(9, 5))\n",
    "for i, feature in enumerate(cols_to_plot):\n",
    "    plt.subplot(-(-3 // 2), 2, i+1)\n",
    "    sns.histplot(data = df, x = feature, bins = 20, hue = 'is_canceled')\n",
    "    plt.title(f'Histogram of {feature}')\n",
    "\n",
    "plt.tight_layout()"
   ]
  },
  {
   "cell_type": "code",
   "execution_count": null,
   "id": "e9ac4839-738d-4347-876a-88a8ec92109e",
   "metadata": {},
   "outputs": [],
   "source": [
    "# Creating a new feature total members\n",
    "df['total_members'] = df['adults'] + df['children'] + df['babies']"
   ]
  },
  {
   "cell_type": "code",
   "execution_count": null,
   "id": "0676a107-4a92-4517-b3e5-5feb5e8ed10e",
   "metadata": {},
   "outputs": [],
   "source": [
    "# Visualizing total_members\n",
    "fig, axes = plt.subplots(nrows=1, ncols=2, figsize=(10, 4))\n",
    "\n",
    "plt.suptitle('Visualization of total members', fontsize=15)\n",
    "# KDE plot\n",
    "sns.kdeplot(data=df, x='total_members', ax=axes[0], color = RandomColor().generate()[0])\n",
    "axes[0].set_title('KDE')\n",
    "\n",
    "# Histogram\n",
    "sns.histplot(data=df, x='total_members', bins=20, ax=axes[1], hue = 'is_canceled')\n",
    "axes[1].set_title('Histogram')\n",
    "\n",
    "plt.tight_layout()"
   ]
  },
  {
   "cell_type": "markdown",
   "id": "2dd5810e-1818-4e2c-a862-952245d113f1",
   "metadata": {},
   "source": [
    "**Observations**\n",
    "* All of the variables denoting members are positively skewed.\n",
    "* Presense of outliers can be seen.\n",
    "\n",
    "We created new variable total_members"
   ]
  },
  {
   "cell_type": "markdown",
   "id": "2bbde700-df76-4983-a51b-23f95d7671b0",
   "metadata": {},
   "source": [
    "### Impact of Previous cancellations."
   ]
  },
  {
   "cell_type": "code",
   "execution_count": null,
   "id": "0c0bd5da-668c-44ff-b5dc-0ba9f4967757",
   "metadata": {},
   "outputs": [],
   "source": [
    "# Visualizing previous cancellation and not previous cancellations \n",
    "# Assuming 'is_canceled' is a categorical variable\n",
    "fig, axes = plt.subplots(nrows=2, ncols=2, figsize=(10, 8))\n",
    "\n",
    "# Creating histograms with hue\n",
    "sns.histplot(data=df, x='previous_cancellations', ax=axes[0, 0], bins=30, hue='is_canceled')\n",
    "axes[0, 0].set_title('previous_cancellations')\n",
    "\n",
    "sns.histplot(data=df, x='previous_bookings_not_canceled', bins=20, ax=axes[0, 1], hue='is_canceled')\n",
    "axes[0, 1].set_title('previous bookings not canceled')\n",
    "\n",
    "# Creating kdeplots\n",
    "sns.kdeplot(data=df, x='previous_cancellations', ax=axes[1, 0], color = RandomColor().generate()[0])\n",
    "axes[1, 0].set_title('KDE plot of previous_cancellations')\n",
    "\n",
    "sns.kdeplot(data=df, x='previous_bookings_not_canceled', ax=axes[1, 1], color = RandomColor().generate()[0])\n",
    "axes[1, 1].set_title('KDE plot of previous bookings not canceled')\n",
    "\n",
    "# Adjust layout\n",
    "plt.tight_layout()\n"
   ]
  },
  {
   "cell_type": "code",
   "execution_count": null,
   "id": "306b91ea-2b62-4f65-9d56-f9bb34c84825",
   "metadata": {},
   "outputs": [],
   "source": [
    "# Creating a new feature total bookings\n",
    "df['total_bookings'] = df['previous_cancellations'] + df['previous_bookings_not_canceled']"
   ]
  },
  {
   "cell_type": "code",
   "execution_count": null,
   "id": "9c7b4ad1-b33c-4821-9def-e15e79e3130a",
   "metadata": {},
   "outputs": [],
   "source": [
    "# Creating plots of total bookings\n",
    "fig, axes = plt.subplots(nrows=1, ncols=2, figsize=(10, 4))\n",
    "\n",
    "plt.suptitle('Visualization of total bookings', fontsize=15)\n",
    "# KDE plot\n",
    "sns.kdeplot(data=df, x='total_bookings', ax=axes[0], color = RandomColor().generate()[0])\n",
    "axes[0].set_title('KDE')\n",
    "\n",
    "# Histogram\n",
    "sns.histplot(data=df, x='total_bookings', bins=20, ax=axes[1], hue = 'is_canceled')\n",
    "axes[1].set_title('Histogram')\n",
    "\n",
    "plt.tight_layout()"
   ]
  },
  {
   "cell_type": "markdown",
   "id": "51be1e83-e2bb-438d-b302-17777159e2e0",
   "metadata": {},
   "source": [
    "**Observations**\n",
    "* Person with high number of previous cancellations are more likely to cancel the booking.\n",
    "* Skewed distribution of previous_cancellation/ total_cancellation.\n",
    "\n",
    "Created new variable total_bookings"
   ]
  },
  {
   "cell_type": "markdown",
   "id": "746f99e9-5b0d-4780-ad17-50a024d97185",
   "metadata": {},
   "source": [
    "### What if customer makes changes in booking ?"
   ]
  },
  {
   "cell_type": "code",
   "execution_count": null,
   "id": "af158904-12c9-4102-89fc-5e0e3205c234",
   "metadata": {},
   "outputs": [],
   "source": [
    "## Creating plots of total bookings\n",
    "fig, axes = plt.subplots(nrows=1, ncols=2, figsize=(10, 4))\n",
    "plt.suptitle('Visualizing of booking_changes', fontsize=15)\n",
    "# KDE plot\n",
    "sns.kdeplot(data=df, x='booking_changes', ax=axes[0], color = RandomColor().generate()[0])\n",
    "axes[0].set_title('KDE')\n",
    "\n",
    "# Histogram\n",
    "sns.histplot(data=df, x='booking_changes', bins=20, ax=axes[1], hue = 'is_canceled')\n",
    "axes[1].set_title('Histogram')\n",
    "\n",
    "plt.tight_layout()"
   ]
  },
  {
   "cell_type": "markdown",
   "id": "ddf25e88-f992-47d1-bc0c-a5db53376bce",
   "metadata": {},
   "source": [
    "**Observations**\n",
    "* Positive skewed data."
   ]
  },
  {
   "cell_type": "markdown",
   "id": "54df626c-d87a-482e-91ff-79f87e56b06f",
   "metadata": {},
   "source": [
    "### Other numerical Variables"
   ]
  },
  {
   "cell_type": "code",
   "execution_count": null,
   "id": "8ba7cb7e-2694-4650-8cc1-ab842f5622d3",
   "metadata": {},
   "outputs": [],
   "source": [
    "# Explore numerical features\n",
    "cols_to_plot = ['days_in_waiting_list', 'adr', 'required_car_parking_spaces', 'total_of_special_requests']\n",
    "\n",
    "plt.figure(figsize=(9, 5))\n",
    "for i, feature in enumerate(cols_to_plot):\n",
    "    plt.subplot(-(-3 // 2), 2, i+1)\n",
    "    sns.histplot(data = df, x = feature, bins = 20, hue = 'is_canceled')\n",
    "    plt.title(f'Histogram of {feature}')\n",
    "\n",
    "plt.tight_layout()"
   ]
  },
  {
   "cell_type": "markdown",
   "id": "37d1323a-fb83-418d-a502-eb157b4b92a7",
   "metadata": {},
   "source": [
    "**Insights**\n",
    "- Less risk of cancel if total_of_special_requests are higher .\n",
    "- Those who require car paking spaces also has less cancel rates."
   ]
  },
  {
   "cell_type": "markdown",
   "id": "f47dc677-328b-4275-8a61-f801663e8d94",
   "metadata": {},
   "source": [
    "## Analyze Categorical Variables"
   ]
  },
  {
   "cell_type": "code",
   "execution_count": null,
   "id": "0b410253-33c2-43e3-ac6b-c47403ef8b59",
   "metadata": {},
   "outputs": [],
   "source": [
    "import warnings\n",
    "warnings.filterwarnings(\"ignore\")"
   ]
  },
  {
   "cell_type": "markdown",
   "id": "9ee8aeb2-ee07-4249-a1d8-a955bab43e9a",
   "metadata": {},
   "source": [
    "### Hotel wise cancellation analysis"
   ]
  },
  {
   "cell_type": "code",
   "execution_count": null,
   "id": "d9850bf3-a46e-4dbc-8b54-5ecea6695fa1",
   "metadata": {},
   "outputs": [],
   "source": [
    "# Find cancellation rates hotel wise\n",
    "df_hotel = df.groupby('hotel')['is_canceled'].agg(['count', 'sum']).reset_index()\n",
    "df_hotel['cancellation_pct'] = df_hotel['sum'] / df_hotel['count'] * 100"
   ]
  },
  {
   "cell_type": "code",
   "execution_count": null,
   "id": "c99c7132-752b-4d91-bf91-e2b77e226cbb",
   "metadata": {},
   "outputs": [],
   "source": [
    "df_hotel.head()"
   ]
  },
  {
   "cell_type": "code",
   "execution_count": null,
   "id": "9489bc08-163e-45dd-bc66-72895d6012ea",
   "metadata": {},
   "outputs": [],
   "source": [
    "# Creating visualization for hotel wise cancellation rates\n",
    "sns.barplot(data = df_hotel, x = 'hotel', y = 'cancellation_pct',color = RandomColor().generate()[0])\n",
    "plt.title('Hotel wise cancellation rates')"
   ]
  },
  {
   "cell_type": "markdown",
   "id": "1e56e9c6-ed1f-422e-bda6-a8247b9803c9",
   "metadata": {},
   "source": [
    "**Insights from barplot**\n",
    "- City hotel has more cancellation rate as compared to resort.\n",
    "- Around 41% of bookings made for city hotel are canceled where 27% for resort hotel."
   ]
  },
  {
   "cell_type": "markdown",
   "id": "d0defd58-1fa7-4098-922f-e98a0c6d376e",
   "metadata": {},
   "source": [
    "### Country wise cancellation rates"
   ]
  },
  {
   "cell_type": "code",
   "execution_count": null,
   "id": "eefcdc37-4fc3-4281-b709-3112f791b286",
   "metadata": {},
   "outputs": [],
   "source": [
    "# Calculate country wise cancellatin rates\n",
    "df_country = df.groupby('country')['is_canceled'].agg(['count', 'sum']).reset_index()\n",
    "df_country['cancellation_pct'] = df_country['sum'] / df_country['count']"
   ]
  },
  {
   "cell_type": "code",
   "execution_count": null,
   "id": "704ca7e2-cd61-44bc-8190-699efec43aeb",
   "metadata": {},
   "outputs": [],
   "source": [
    "df_country.head()"
   ]
  },
  {
   "cell_type": "code",
   "execution_count": null,
   "id": "56bd309e-43ec-4ce4-93ee-0a93760e98f0",
   "metadata": {},
   "outputs": [],
   "source": [
    "# Ignoring countries with less than 1000 total bookings\n",
    "df_country = df_country[df_country['count'] > 1000]"
   ]
  },
  {
   "cell_type": "code",
   "execution_count": null,
   "id": "cacd0cc9-89c8-4307-b760-073ec7c47ce5",
   "metadata": {},
   "outputs": [],
   "source": [
    "# Creating bar plor for country wise cancellation \n",
    "sns.barplot(data = df_country, x = 'country', y = 'cancellation_pct', palette='viridis')\n",
    "plt.ylabel('Cancellation Rate')\n",
    "plt.title('Country Wise Cancellation Rates')"
   ]
  },
  {
   "cell_type": "markdown",
   "id": "e254565e-f54d-4b6c-b3ec-6a4829b0c48d",
   "metadata": {},
   "source": [
    "**Conclusions**\n",
    "- PRT(Portugal) has highest cancellation rate.\n",
    "- Many countries AUT(Austria) DEU(Germany) NLD(Neatherlands) has relatively low cancellation rates."
   ]
  },
  {
   "cell_type": "markdown",
   "id": "b2a9b201-e001-4279-a6fe-663f6d2792d3",
   "metadata": {},
   "source": [
    "### Impact of Meal Plan "
   ]
  },
  {
   "cell_type": "code",
   "execution_count": null,
   "id": "08cc4299-434b-4331-adf3-2bdab216a12d",
   "metadata": {},
   "outputs": [],
   "source": [
    "# Calculating cancellation rates meal plan wise\n",
    "value_counts = df['meal'].value_counts()"
   ]
  },
  {
   "cell_type": "code",
   "execution_count": null,
   "id": "ba2641f0-d4bf-43ef-a4d3-544c35293958",
   "metadata": {},
   "outputs": [],
   "source": [
    "# Creating barplot of meal plans and count\n",
    "sns.countplot(data = df, x= 'meal', color = RandomColor().generate()[0])"
   ]
  },
  {
   "cell_type": "code",
   "execution_count": null,
   "id": "404248ec-8507-48fa-9d5b-43eecdbedfb8",
   "metadata": {},
   "outputs": [],
   "source": [
    "# Creating df for cancellation rate for meal plan\n",
    "df_meal = df.groupby('meal')['is_canceled'].agg(['count', 'sum']).reset_index()\n",
    "df_meal['cancellation_pct'] = df_meal['sum'] / df_meal['count'] * 100\n",
    "df_meal.head()"
   ]
  },
  {
   "cell_type": "code",
   "execution_count": null,
   "id": "665b0e8a-b333-46aa-8fd3-25ea8d6a90a7",
   "metadata": {},
   "outputs": [],
   "source": [
    "# Creating bar plot meal plean cancellation rates\n",
    "sns.barplot(data = df_meal, x = 'meal', y = 'cancellation_pct',palette='viridis')\n",
    "plt.title('Meal wise cancellation rates')"
   ]
  },
  {
   "cell_type": "markdown",
   "id": "0a685265-ac09-41ba-b316-1c70411a98ac",
   "metadata": {},
   "source": [
    "**Observations**\n",
    "- Presense of missing values in form of \"Undefined\"\n",
    "- Booking's with FB(Full Board) meal plan has most cancellation rates."
   ]
  },
  {
   "cell_type": "markdown",
   "id": "7672827b-5721-43bf-8b7c-8e279269e950",
   "metadata": {},
   "source": [
    "### Arrival time(year, month, week_number, day_of_month) analysis"
   ]
  },
  {
   "cell_type": "markdown",
   "id": "6d9f3394-9094-4ce9-b44b-221afa0c4170",
   "metadata": {},
   "source": [
    "#### Analyzing arrival_date_year "
   ]
  },
  {
   "cell_type": "code",
   "execution_count": null,
   "id": "754597c4-1261-4137-847e-80f2d2c8c980",
   "metadata": {},
   "outputs": [],
   "source": [
    "# Calculating total cancellation in each year\n",
    "df_arrival_year = df.groupby('arrival_date_year')['is_canceled'].agg(['sum']).reset_index()\n",
    "df_arrival_year.head()"
   ]
  },
  {
   "cell_type": "code",
   "execution_count": null,
   "id": "62eceb46-4822-4634-a367-f12c24fef810",
   "metadata": {},
   "outputs": [],
   "source": [
    "# Lineplot of arrival_date_year with total cancellations\n",
    "sns.barplot(data = df_arrival_year, x = 'arrival_date_year', y = 'sum', palette='viridis')\n",
    "plt.ylabel('Total Cancellations')\n",
    "plt.title('Bar Plot of Total Cancellation in Each Year')\n"
   ]
  },
  {
   "cell_type": "code",
   "execution_count": null,
   "id": "23c24f64-3ca4-4276-b5e5-32893df923db",
   "metadata": {},
   "outputs": [],
   "source": [
    "# Removing arrival_date_year becuse not providing much information\n",
    "df = df.drop(columns = ['arrival_date_year'])"
   ]
  },
  {
   "cell_type": "markdown",
   "id": "2ea50166-7c62-4867-a386-6882e7af8d61",
   "metadata": {},
   "source": [
    "#### Analyzing arrival date month"
   ]
  },
  {
   "cell_type": "code",
   "execution_count": null,
   "id": "b77aacc7-fae3-46fd-91f6-96f85e8ffb13",
   "metadata": {},
   "outputs": [],
   "source": [
    "# Calculate month wise cancellation rattes\n",
    "df_arrival_month = df.groupby('arrival_date_month')['is_canceled'].agg(['count', 'sum']).reset_index()\n",
    "df_arrival_month['cancellation_pct'] = df_arrival_month['sum'] / df_arrival_month['count']"
   ]
  },
  {
   "cell_type": "code",
   "execution_count": null,
   "id": "fd853bde-d857-4d9c-b9c7-596b55e0dce0",
   "metadata": {},
   "outputs": [],
   "source": [
    "# Sort the month in order of increasing month\n",
    "month_map = {'January': 1, 'February': 2, 'March': 3, 'April': 4, 'May': 5, 'June':6, 'July': 7, 'August': 8, 'September': 9, 'October': 10, 'November': 11, 'December': 12}\n",
    "df['arrival_date_month_num'] = df['arrival_date_month'].map(month_map)\n",
    "sorted_df = df.sort_values(by=['arrival_date_month_num'],ascending=True)\n",
    "df_arrival_month.head()"
   ]
  },
  {
   "cell_type": "code",
   "execution_count": null,
   "id": "03204435-6197-4028-bdbd-50b16ebb649e",
   "metadata": {},
   "outputs": [],
   "source": [
    "sns.barplot(data = df_arrival_month, x = 'arrival_date_month', y = 'cancellation_pct', palette='viridis')\n",
    "plt.xticks(rotation = 45)\n",
    "plt.ylabel('Cancellation Percentage')\n",
    "plt.title('Bar Plot of Cancellation Percentage for Arrival Date Month')"
   ]
  },
  {
   "cell_type": "markdown",
   "id": "1ca6d0f0-6ad1-4999-bc62-ab14f7df63aa",
   "metadata": {},
   "source": [
    "**Insights**\n",
    "- Booking made in the month of April and June has most risk to be canceled.\n",
    "- Where bookings in november january march are less likely to be canceled.\n",
    "- Cancellation rates are increasing from December to June.\n",
    "- From June- November is seems to be decreasing cancellation rates."
   ]
  },
  {
   "cell_type": "markdown",
   "id": "726c419b-7af4-4771-a133-7303d2d02f91",
   "metadata": {},
   "source": [
    "#### Analyze arrival date week number"
   ]
  },
  {
   "cell_type": "code",
   "execution_count": null,
   "id": "77f2b4df-8a2c-4f04-aa1f-47c8ee3b9fda",
   "metadata": {},
   "outputs": [],
   "source": [
    "# Calculate arrival date week wise cancellation rates\n",
    "df_arrival_week_number = df.groupby('arrival_date_week_number')['is_canceled'].agg(['count', 'sum']).reset_index()\n",
    "df_arrival_week_number['cancellation_pct'] = df_arrival_week_number['sum'] / df_arrival_week_number['count']"
   ]
  },
  {
   "cell_type": "code",
   "execution_count": null,
   "id": "48506202-dbaa-46ac-bc8a-b8a4c854c333",
   "metadata": {},
   "outputs": [],
   "source": [
    "# Barplot of arrival date week number\n",
    "plt.figure(figsize = (13, 6))\n",
    "sns.barplot(data = df_arrival_week_number, x = 'arrival_date_week_number', y = 'cancellation_pct', palette='viridis')\n",
    "plt.ylabel('Cancellation Rates')\n",
    "plt.title('Bar Plot of Cancellation Percentage for Arrival Date week number')\n",
    "plt.xticks(rotation = 45)\n",
    "plt.show()"
   ]
  },
  {
   "cell_type": "markdown",
   "id": "8f6061cc-4e4d-49ba-9138-75871393226e",
   "metadata": {},
   "source": [
    "**arrival_date_week_number:** is week number of that year in which customer will be arriving at hotel.For example if customer arrives in Januray 29 then arrival_date_week_number will be 5.\n",
    "\n",
    "**Insights**\n",
    "- Plot has Same behaviour as of arrival_date_month with more detail."
   ]
  },
  {
   "cell_type": "markdown",
   "id": "29ff9d4e-2cc9-48f2-9b27-8a61bc611f25",
   "metadata": {},
   "source": [
    "#### Analyzing arrival_date_day_of_month"
   ]
  },
  {
   "cell_type": "code",
   "execution_count": null,
   "id": "65b2fab6-6e2b-4e61-9a5a-244868d62e96",
   "metadata": {},
   "outputs": [],
   "source": [
    "# Calculate arrival date day of month wise cancellation rates\n",
    "df_arrival_day_of_month = df.groupby('arrival_date_day_of_month')['is_canceled'].agg(['count', 'sum']).reset_index()\n",
    "df_arrival_day_of_month['cancellation_pct'] = df_arrival_day_of_month['sum'] / df_arrival_day_of_month['count']\n",
    "df_arrival_day_of_month = df_arrival_day_of_month.sort_values(by = 'arrival_date_day_of_month')"
   ]
  },
  {
   "cell_type": "code",
   "execution_count": null,
   "id": "7ac82cc7-b766-4018-982f-99d1054e03c9",
   "metadata": {},
   "outputs": [],
   "source": [
    "# Barplot of arrival \n",
    "plt.figure(figsize = (10, 6))\n",
    "sns.barplot(data = df_arrival_day_of_month, x = 'arrival_date_day_of_month', y = 'cancellation_pct', palette='viridis')\n",
    "plt.ylabel('Cancellation Rates')\n",
    "plt.title('Bar Plot of Cancellation Percentage for arrival_date_day_of_month')\n",
    "plt.xticks(rotation = 45)\n",
    "plt.show()"
   ]
  },
  {
   "cell_type": "markdown",
   "id": "14bc0db4-f662-4086-8750-535b8151061c",
   "metadata": {},
   "source": [
    "### What if guest is repeated"
   ]
  },
  {
   "cell_type": "code",
   "execution_count": null,
   "id": "1db8de2f-4d9e-417a-8a96-08281bc755ce",
   "metadata": {},
   "outputs": [],
   "source": [
    "# Checking for unique values\n",
    "df['is_repeated_guest'].value_counts()"
   ]
  },
  {
   "cell_type": "code",
   "execution_count": null,
   "id": "dbcb26df-0367-480c-9669-68f2835e28de",
   "metadata": {},
   "outputs": [],
   "source": [
    "# Calculating cancellation percentage of repeated and not repeated guest\n",
    "df_is_repeated_guest = df.groupby('is_repeated_guest')['is_canceled'].agg(['count', 'sum']).reset_index()\n",
    "df_is_repeated_guest['cancellation_pct'] = df_is_repeated_guest['sum'] / df_is_repeated_guest['count']"
   ]
  },
  {
   "cell_type": "code",
   "execution_count": null,
   "id": "104674bd-ad10-4223-b4a3-8985acf7824d",
   "metadata": {},
   "outputs": [],
   "source": [
    "# Creating count plot\n",
    "sns.barplot(data = df_is_repeated_guest, x = 'is_repeated_guest', y = 'cancellation_pct', color = RandomColor().generate()[0])\n",
    "plt.ylabel('Cancellation Rate')\n",
    "plt.title('Bar Plot Showing Cancellation Rates For Repeated & Non Repeated Guests')"
   ]
  },
  {
   "cell_type": "markdown",
   "id": "bdd7174b-90f8-4668-934e-2f1dee28c109",
   "metadata": {},
   "source": [
    "**Insights**\n",
    "- Most of the guest are not repeated.\n",
    "- Most of cancellation's are made by non repeated guests\n",
    "- Only 14% of repeated guests cancel where this value goes to 37% when it comes to non repeated guests."
   ]
  },
  {
   "cell_type": "markdown",
   "id": "00899510-ea2f-4b5f-939e-709f7bc029b4",
   "metadata": {},
   "source": [
    "#### Analyze market segment"
   ]
  },
  {
   "cell_type": "code",
   "execution_count": null,
   "id": "ccb34fe5-5067-408f-99e5-22b1f6cabedf",
   "metadata": {},
   "outputs": [],
   "source": [
    "# Find unique vales\n",
    "df['market_segment'].value_counts()"
   ]
  },
  {
   "cell_type": "code",
   "execution_count": null,
   "id": "65130916-9c7b-486e-8da1-69698d07402a",
   "metadata": {},
   "outputs": [],
   "source": [
    "# Calculating cancellation rate\n",
    "\n",
    "df_market_segment = df.groupby('market_segment')['is_canceled'].agg(['count', 'sum']).reset_index()\n",
    "df_market_segment['cancellation_pct'] = df_market_segment['sum'] / df_market_segment['count']\n",
    "# Creating plot\n",
    "sns.barplot(data = df_market_segment, x = 'market_segment', y = 'cancellation_pct', palette = 'Paired')\n",
    "plt.ylabel('Cancellation Rate')\n",
    "plt.xticks(rotation = 45)\n",
    "plt.title('Cancellation Rates For Different Marcket Segment')\n"
   ]
  },
  {
   "cell_type": "markdown",
   "id": "9fc30679-8f12-4ef4-ab38-ad67b0cbc5fd",
   "metadata": {},
   "source": [
    "**Insights**\n",
    "- Groups has most of the cancellation.\n",
    "- Presense of missing values in form of Undefined"
   ]
  },
  {
   "cell_type": "markdown",
   "id": "bc582eea-4d47-4cc4-a9a5-f70f6d4d2004",
   "metadata": {},
   "source": [
    "### Analyze distribution channel"
   ]
  },
  {
   "cell_type": "code",
   "execution_count": null,
   "id": "9ea1f682-a0ab-42ef-81b4-e8e05cf23ecd",
   "metadata": {},
   "outputs": [],
   "source": [
    "# Find unique vales\n",
    "df['distribution_channel'].value_counts()"
   ]
  },
  {
   "cell_type": "code",
   "execution_count": null,
   "id": "60e7c788-afc5-45c1-adea-adb664ba0c74",
   "metadata": {},
   "outputs": [],
   "source": [
    "# Calculating cancellation rate\n",
    "df_distribution_channel = df.groupby('distribution_channel')['is_canceled'].agg(['count', 'sum']).reset_index()\n",
    "df_distribution_channel['cancellation_pct'] = df_market_segment['sum'] / df_market_segment['count']\n",
    "# Creating plot\n",
    "sns.barplot(data = df_distribution_channel, x = 'distribution_channel', y = 'cancellation_pct', palette = 'Paired')\n",
    "plt.ylabel('Cancellation Rate')\n",
    "plt.xticks(rotation = 45)\n",
    "plt.title('Cancellation Rates For different distribution_channel')\n"
   ]
  },
  {
   "cell_type": "markdown",
   "id": "42d6c523-a564-478d-81da-5255b921812b",
   "metadata": {},
   "source": [
    "**Insights**\n",
    "- Corporate has most cancellation rates.\n",
    "- Presense of missing values i.e Undefined."
   ]
  },
  {
   "cell_type": "markdown",
   "id": "d0fd63c4-6c81-491f-a8d5-00bf8509f3c3",
   "metadata": {},
   "source": [
    "#### reserved/assigned_room_type anaysis"
   ]
  },
  {
   "cell_type": "code",
   "execution_count": null,
   "id": "c70a6a1e-01bb-4ae9-b8b7-307c8deeba68",
   "metadata": {},
   "outputs": [],
   "source": [
    "df[['reserved_room_type']].value_counts()"
   ]
  },
  {
   "cell_type": "code",
   "execution_count": null,
   "id": "d0aac07d-5392-4c10-bdcb-f5bc94db3441",
   "metadata": {},
   "outputs": [],
   "source": [
    "df[['assigned_room_type']].value_counts()"
   ]
  },
  {
   "cell_type": "code",
   "execution_count": null,
   "id": "b1a88a4d-c40c-42f4-9b83-8df1e6de17b0",
   "metadata": {},
   "outputs": [],
   "source": [
    "# Calculating cancellation rate\n",
    "plt.figure(figsize=(9, 3))\n",
    "variable = 'reserved_room_type'\n",
    "cancel_rate_df = df.groupby(variable)['is_canceled'].agg(['count', 'sum']).reset_index()\n",
    "cancel_rate_df['cancellation_pct'] = cancel_rate_df['sum'] / cancel_rate_df['count']\n",
    "# Creating plot\n",
    "sns.barplot(data = cancel_rate_df, x = variable, y = 'cancellation_pct', palette = \"Spectral\")\n",
    "plt.ylabel('Cancellations')\n",
    "plt.title(f'Total Cancellation For different {variable}')\n",
    "\n",
    "# For assigned room type\n",
    "plt.figure(figsize=(9, 3))\n",
    "variable = 'assigned_room_type'\n",
    "cancel_rate_df = df.groupby(variable)['is_canceled'].agg(['count', 'sum']).reset_index()\n",
    "cancel_rate_df['cancellation_pct'] = cancel_rate_df['sum'] / cancel_rate_df['count']\n",
    "# Creating plot\n",
    "sns.barplot(data = cancel_rate_df, x = variable, y = 'cancellation_pct', palette = \"Spectral\")\n",
    "plt.ylabel('Cancellations')\n",
    "plt.title(f'Total Cancellation For different {variable}')\n",
    "\n"
   ]
  },
  {
   "cell_type": "markdown",
   "id": "538e4198-9210-4de4-a25a-19d63cf004ce",
   "metadata": {},
   "source": [
    "### deposit_type variable"
   ]
  },
  {
   "cell_type": "code",
   "execution_count": null,
   "id": "39dd3651-0db2-4094-b51c-37e548b68276",
   "metadata": {},
   "outputs": [],
   "source": [
    "# Check unique values\n",
    "df[['deposit_type']].value_counts()"
   ]
  },
  {
   "cell_type": "code",
   "execution_count": null,
   "id": "386e1725-b425-4dd0-9206-be80ad9fdbb7",
   "metadata": {},
   "outputs": [],
   "source": [
    "variable = 'deposit_type'\n",
    "cancel_rate_df = df.groupby(variable)['is_canceled'].agg(['count', 'sum']).reset_index()\n",
    "cancel_rate_df['cancellation_pct'] = cancel_rate_df['sum'] / cancel_rate_df['count']\n",
    "# Creating plot\n",
    "sns.barplot(data = cancel_rate_df, x = variable, y = 'cancellation_pct', palette = 'viridis')\n",
    "plt.ylabel('Cancellation Rate')\n",
    "plt.title(f'Cancellation Rates For different {variable}')"
   ]
  },
  {
   "cell_type": "markdown",
   "id": "c35ccb72-c4bc-45fa-850d-4f2b30188529",
   "metadata": {},
   "source": [
    "- High risk of cancellation with Non Refund deposit type."
   ]
  },
  {
   "cell_type": "markdown",
   "id": "7caf672e-3c99-4e8d-a4d1-ad56a805803d",
   "metadata": {},
   "source": [
    "#### customer_type variable"
   ]
  },
  {
   "cell_type": "code",
   "execution_count": null,
   "id": "807ffefe-cb44-442d-a35f-e52276fed771",
   "metadata": {},
   "outputs": [],
   "source": [
    "df['customer_type'].value_counts()"
   ]
  },
  {
   "cell_type": "code",
   "execution_count": null,
   "id": "e764e16a-86f1-4d94-aaeb-41bfd0af9d39",
   "metadata": {},
   "outputs": [],
   "source": [
    "variable = 'customer_type'\n",
    "cancel_rate_df = df.groupby(variable)['is_canceled'].agg(['count', 'sum']).reset_index()\n",
    "cancel_rate_df['cancellation_pct'] = cancel_rate_df['sum'] / cancel_rate_df['count']\n",
    "# Creating plot\n",
    "sns.barplot(data = cancel_rate_df, x = variable, y = 'cancellation_pct', palette = 'viridis')\n",
    "plt.ylabel('Cancellation Rate')\n",
    "plt.title(f'Cancellation Rates For different {variable}')"
   ]
  },
  {
   "cell_type": "markdown",
   "id": "06cdbef6-5677-4783-bfa3-d0d5272dee79",
   "metadata": {},
   "source": [
    "- Customer Type Transient has highest cancel rates."
   ]
  },
  {
   "cell_type": "markdown",
   "id": "ee429372-9273-4100-a3cf-ea9be9182c7f",
   "metadata": {},
   "source": [
    "#### revervation_status variable"
   ]
  },
  {
   "cell_type": "code",
   "execution_count": null,
   "id": "729e37ac-6944-4cba-93fa-bfe87a055b03",
   "metadata": {},
   "outputs": [],
   "source": [
    "df['reservation_status'].value_counts()"
   ]
  },
  {
   "cell_type": "markdown",
   "id": "ead26ecb-4301-4167-8910-a19a617efe56",
   "metadata": {},
   "source": [
    "- We can remove reservation_status variabe"
   ]
  },
  {
   "cell_type": "markdown",
   "id": "3a24a212-c179-4b6f-be16-d0007d8d1960",
   "metadata": {},
   "source": [
    "### agenet variable"
   ]
  },
  {
   "cell_type": "code",
   "execution_count": null,
   "id": "37e79f9b-a2a4-45d7-aa42-cc1307278c96",
   "metadata": {},
   "outputs": [],
   "source": [
    "df['agent'].value_counts()"
   ]
  },
  {
   "cell_type": "markdown",
   "id": "c9ad3f5b-7b11-4299-a5b4-3b4dcb81c957",
   "metadata": {},
   "source": [
    "* agent variable is an id for agent which is not required for modeling thus we can remove it."
   ]
  },
  {
   "cell_type": "markdown",
   "id": "e320ce09-e3df-41c5-8aed-c07c30a8f756",
   "metadata": {},
   "source": [
    "### company variable"
   ]
  },
  {
   "cell_type": "code",
   "execution_count": null,
   "id": "40857fda-38b3-4c6c-9378-cea4b982ee83",
   "metadata": {},
   "outputs": [],
   "source": [
    "# Check unique values\n",
    "df['company'].value_counts()"
   ]
  },
  {
   "cell_type": "markdown",
   "id": "84745c0b-fe73-4826-83f1-fad3e142ed9a",
   "metadata": {},
   "source": [
    "- Even company variable is mixed which is not required."
   ]
  },
  {
   "cell_type": "markdown",
   "id": "445ce6d1-8ec6-478f-ae45-73ff5f75541c",
   "metadata": {},
   "source": [
    "### Hypothesis testing"
   ]
  },
  {
   "cell_type": "code",
   "execution_count": null,
   "id": "af45c39b-88a9-468a-a570-9252b38e411c",
   "metadata": {},
   "outputs": [],
   "source": [
    "numerical_features = ['lead_time', 'stays_in_weekend_nights', 'stays_in_week_nights', 'adults', 'children', 'babies', 'previous_cancellations', 'previous_bookings_not_canceled', 'booking_changes', 'days_in_waiting_list', 'adr', 'required_car_parking_spaces', 'total_of_special_requests', 'total_members', 'total_stay_nights']\n"
   ]
  },
  {
   "cell_type": "code",
   "execution_count": null,
   "id": "26e2fd51-0ce0-44fa-8d61-2307114dd1cd",
   "metadata": {},
   "outputs": [],
   "source": [
    "from scipy.stats import shapiro"
   ]
  },
  {
   "cell_type": "code",
   "execution_count": null,
   "id": "10703466-eba4-464d-addb-04a0a0076d0d",
   "metadata": {
    "scrolled": true
   },
   "outputs": [],
   "source": [
    "# Normality test for numerical features\n",
    "normal_cols= []\n",
    "for feature in numerical_features:\n",
    "    stat, p_value = shapiro(df[feature])\n",
    "    print(f'{feature}: test_stat,',str(stat)[0:4], 'p_value', p_value)"
   ]
  },
  {
   "cell_type": "markdown",
   "id": "fdae462d-e336-4b37-9cd7-a20a8b2d33de",
   "metadata": {},
   "source": [
    "# Deal with missing values"
   ]
  },
  {
   "cell_type": "markdown",
   "id": "14c7853c-2d15-4654-a796-a21a46d95439",
   "metadata": {},
   "source": [
    "### Dealing for categorical variables"
   ]
  },
  {
   "cell_type": "code",
   "execution_count": null,
   "id": "b1eae12e-5208-4324-a3e9-bd844ab1e95b",
   "metadata": {},
   "outputs": [],
   "source": [
    "# Dealing with Undefind in categorical columns\n",
    "for i in df.columns:\n",
    "    if len(df[df[i] == 'Undefined']) > 0:\n",
    "        print(i)"
   ]
  },
  {
   "cell_type": "code",
   "execution_count": null,
   "id": "337b2677-938f-46ec-b496-50dddb93bb55",
   "metadata": {},
   "outputs": [],
   "source": []
  }
 ],
 "metadata": {
  "kernelspec": {
   "display_name": "Python 3 (ipykernel)",
   "language": "python",
   "name": "python3"
  },
  "language_info": {
   "codemirror_mode": {
    "name": "ipython",
    "version": 3
   },
   "file_extension": ".py",
   "mimetype": "text/x-python",
   "name": "python",
   "nbconvert_exporter": "python",
   "pygments_lexer": "ipython3",
   "version": "3.9.18"
  }
 },
 "nbformat": 4,
 "nbformat_minor": 5
}
